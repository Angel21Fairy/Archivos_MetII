{
 "cells": [
  {
   "cell_type": "markdown",
   "metadata": {},
   "source": [
    "# Métodos de integración numérica por cuadratura\n",
    "\n",
    "Ejercicio 1 de la sección 4.6.6"
   ]
  },
  {
   "cell_type": "code",
   "execution_count": 1,
   "metadata": {},
   "outputs": [],
   "source": [
    "import numpy as np\n",
    "from scipy import integrate\n",
    "import scipy.special as sc\n",
    "import matplotlib.pyplot as plt\n",
    "import pandas as pd\n",
    "import math \n",
    "import sympy as sym\n",
    "from sympy import *\n",
    "from sympy import Integral, sin, sqrt\n",
    "from sympy.integrals.quadrature import gauss_legendre"
   ]
  },
  {
   "cell_type": "code",
   "execution_count": 2,
   "metadata": {},
   "outputs": [],
   "source": [
    "X = Symbol('x')"
   ]
  },
  {
   "cell_type": "code",
   "execution_count": 3,
   "metadata": {
    "scrolled": true
   },
   "outputs": [
    {
     "data": {
      "text/latex": [
       "$\\displaystyle \\frac{\\sqrt{2} \\sqrt{\\pi} \\left(\\cos{\\left(4 \\right)} C\\left(\\frac{\\sqrt{2} x}{\\sqrt{\\pi}}\\right) - \\sin{\\left(4 \\right)} S\\left(\\frac{\\sqrt{2} x}{\\sqrt{\\pi}}\\right)\\right)}{2}$"
      ],
      "text/plain": [
       "sqrt(2)*sqrt(pi)*(cos(4)*fresnelc(sqrt(2)*x/sqrt(pi)) - sin(4)*fresnels(sqrt(2)*x/sqrt(pi)))/2"
      ]
     },
     "execution_count": 3,
     "metadata": {},
     "output_type": "execute_result"
    }
   ],
   "source": [
    "Int = sym.integrate(sym.cos(X**2 + 4), X)\n",
    "Int"
   ]
  },
  {
   "cell_type": "markdown",
   "metadata": {},
   "source": [
    "## Visualización de la función a integrar"
   ]
  },
  {
   "cell_type": "code",
   "execution_count": 4,
   "metadata": {},
   "outputs": [],
   "source": [
    "xx = np.linspace(0, 10, 1000)\n",
    "S, C = sc.fresnel(math.sqrt(2) * math.pi ** (-0.1e1 / 0.2e1) * xx)\n",
    "#S y C son las integrales de Fresnel\n",
    "cg = math.sqrt(2) * math.sqrt(math.pi) * (math.cos(4) * C - math.sin(4) * S) / 2\n",
    "#Resultado de la integral del libro"
   ]
  },
  {
   "cell_type": "code",
   "execution_count": 5,
   "metadata": {},
   "outputs": [
    {
     "data": {
      "image/png": "[encoded data removed]",
      "text/plain": [
       "<Figure size 288x360 with 1 Axes>"
      ]
     },
     "metadata": {
      "needs_background": "light"
     },
     "output_type": "display_data"
    }
   ],
   "source": [
    "fig, (ax) = plt.subplots(1, figsize=(4,5))\n",
    "ax.plot(xx, cg, color='darkred')\n",
    "ax.set_xlabel(\"X\")\n",
    "ax.set_ylabel(\"Integral\")\n",
    "\n",
    "# set the x-spine\n",
    "ax.spines['left'].set_position('zero')\n",
    "\n",
    "# turn off the right spine/ticks\n",
    "ax.spines['right'].set_color('none')\n",
    "ax.yaxis.tick_left()\n",
    "\n",
    "# set the y-spine\n",
    "ax.spines['bottom'].set_position('zero')\n",
    "\n",
    "# turn off the top spine/ticks\n",
    "ax.spines['top'].set_color('none')\n",
    "ax.xaxis.tick_bottom()\n",
    "\n",
    "plt.show()"
   ]
  },
  {
   "cell_type": "markdown",
   "metadata": {},
   "source": [
    "# Evaluar la integral análitica"
   ]
  },
  {
   "cell_type": "code",
   "execution_count": 6,
   "metadata": {
    "scrolled": true
   },
   "outputs": [
    {
     "data": {
      "text/latex": [
       "$\\displaystyle 0.0488019511115954$"
      ],
      "text/plain": [
       "0.0488019511115954"
      ]
     },
     "execution_count": 6,
     "metadata": {},
     "output_type": "execute_result"
    }
   ],
   "source": [
    "# Valor de la integral en (0,10)\n",
    "sym.integrate(sym.cos(X**2 + 4), (X, 0, 10)).evalf()"
   ]
  },
  {
   "cell_type": "markdown",
   "metadata": {},
   "source": [
    "# Evaluar por regla de Simpson 1000"
   ]
  },
  {
   "cell_type": "code",
   "execution_count": 7,
   "metadata": {
    "scrolled": true
   },
   "outputs": [
    {
     "name": "stdout",
     "output_type": "stream",
     "text": [
      "0.0488018138985559\n"
     ]
    }
   ],
   "source": [
    "def f(x):\n",
    "    return (sym.cos(x**2 + 4))\n",
    "    \n",
    "    \n",
    "def ReglaSimpson(limite_inferior,limite_superior,n):\n",
    "    c = (limite_superior - limite_inferior) / n\n",
    "    integral = f(limite_inferior) + f(limite_superior)\n",
    "    for a in range(1,n):\n",
    "        k = limite_inferior + a*c\n",
    "        if (a%2 == 0):\n",
    "            integral = integral + 2 * f(k)\n",
    "        else:\n",
    "            integral = integral + 4 * f(k)\n",
    "    integral = integral * c/3\n",
    "    return integral\n",
    "\n",
    "# Para esta cuadratura se tuvo que hacer con un intervalo grande de 1000 para obtener un resultado parecido al original.\n",
    "resultado = (ReglaSimpson (0,10,1000))\n",
    "resultado_simp = sym.simplify (resultado).evalf()\n",
    "print (resultado_simp)"
   ]
  },
  {
   "cell_type": "markdown",
   "metadata": {},
   "source": [
    "# Evaluar por regla de Trapecios 1000"
   ]
  },
  {
   "cell_type": "code",
   "execution_count": 8,
   "metadata": {},
   "outputs": [
    {
     "data": {
      "text/latex": [
       "$\\displaystyle 0.0488555890321999$"
      ],
      "text/plain": [
       "0.0488555890321999"
      ]
     },
     "execution_count": 8,
     "metadata": {},
     "output_type": "execute_result"
    }
   ],
   "source": [
    "t = Integral(sym.cos(X**2 + 4), (X, 0, 10))\n",
    "t.as_sum(1000, 'trapezoid').evalf()"
   ]
  },
  {
   "cell_type": "markdown",
   "metadata": {},
   "source": [
    "# Evaluar por regla de Gauss-Legendre "
   ]
  },
  {
   "cell_type": "code",
   "execution_count": 22,
   "metadata": {
    "scrolled": true
   },
   "outputs": [
    {
     "data": {
      "text/latex": [
       "$\\displaystyle 0.048801915654649$"
      ],
      "text/plain": [
       "0.0488019156546490"
      ]
     },
     "execution_count": 22,
     "metadata": {},
     "output_type": "execute_result"
    }
   ],
   "source": [
    "t, c = gauss_legendre(50, 10)\n",
    "sumar = []\n",
    "for n in range(len(c)):\n",
    "    II =  c[n] * math.cos((5*t[n] + 5)**2 + 4)\n",
    "    sumar.append(II)\n",
    "answ = 0 \n",
    "for i in range(len(sumar)):\n",
    "    answ = answ + sumar[i]\n",
    "    \n",
    "answ*5"
   ]
  }
 ],
 "metadata": {
  "kernelspec": {
   "display_name": "Python 3",
   "language": "python",
   "name": "python3"
  },
  "language_info": {
   "codemirror_mode": {
    "name": "ipython",
    "version": 3
   },
   "file_extension": ".py",
   "mimetype": "text/x-python",
   "name": "python",
   "nbconvert_exporter": "python",
   "pygments_lexer": "ipython3",
   "version": "3.7.6"
  }
 },
 "nbformat": 4,
 "nbformat_minor": 4
}
