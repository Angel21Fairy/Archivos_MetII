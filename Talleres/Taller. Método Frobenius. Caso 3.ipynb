{
 "cells": [
  {
   "cell_type": "markdown",
   "metadata": {},
   "source": [
    "# Método de Frobenius: caso 3\n",
    "\n",
    "Angélica Angarita   \n",
    "Jefferson Gómez   \n",
    "Nicolás Toledo   "
   ]
  },
  {
   "cell_type": "code",
   "execution_count": 1,
   "metadata": {},
   "outputs": [],
   "source": [
    "import numpy as np\n",
    "from scipy import integrate\n",
    "import scipy.special as sc\n",
    "import matplotlib.pyplot as plt\n",
    "import pandas as pd\n",
    "import math \n",
    "import sympy as sym\n",
    "from sympy import Integral, sin, sqrt\n",
    "from sympy import symbols\n",
    "from sympy import *\n",
    "from sympy import singularities, Symbol, log\n",
    "from sympy import Function"
   ]
  },
  {
   "cell_type": "code",
   "execution_count": 2,
   "metadata": {},
   "outputs": [],
   "source": [
    "#Definición de algunas variables y listas\n",
    "x, y, m, n, k = symbols('x y m n k')\n",
    "\n",
    "a_n1, a_n2, a_n3, a_n4, a_n5, a_n6, a_n7, a_n8, a_n9 = symbols('a_n-1 a_n-2 a_n-3 a_n-4 a_n-5 a_n-6 a_n-7 a_n-8 a_n-9')\n",
    "#a = [a0, a1, a2, a3, a4, a5, a6, a7, a8, a9, a10]\n",
    "a = [a_n1, a_n2, a_n3, a_n4, a_n5, a_n6, a_n7, a_n8, a_n9]"
   ]
  },
  {
   "attachments": {
    "image.png": {
     "image/png": "[encoded data removed]"
    }
   },
   "cell_type": "markdown",
   "metadata": {},
   "source": [
    "![image.png](attachment:image.png)"
   ]
  },
  {
   "cell_type": "markdown",
   "metadata": {},
   "source": [
    "Elegir a2(x), a1(x) y a0(x):"
   ]
  },
  {
   "cell_type": "code",
   "execution_count": 3,
   "metadata": {},
   "outputs": [],
   "source": [
    "#a2 = x**2 \n",
    "#a1 = -x*(2-x)\n",
    "#a0 = (2+x**2)\n",
    "\n",
    "a2 = x**2 \n",
    "a1 = x\n",
    "a0 = (x**2-(1/4))\n"
   ]
  },
  {
   "attachments": {
    "image.png": {
     "image/png": "[encoded data removed]"
    }
   },
   "cell_type": "markdown",
   "metadata": {},
   "source": [
    "![image.png](attachment:image.png)"
   ]
  },
  {
   "cell_type": "code",
   "execution_count": 4,
   "metadata": {},
   "outputs": [],
   "source": [
    "F1 = a1/a2\n",
    "F2 = a0/a2"
   ]
  },
  {
   "cell_type": "code",
   "execution_count": 5,
   "metadata": {},
   "outputs": [
    {
     "data": {
      "text/latex": [
       "$\\displaystyle \\frac{3}{x}$"
      ],
      "text/plain": [
       "3/x"
      ]
     },
     "execution_count": 5,
     "metadata": {},
     "output_type": "execute_result"
    }
   ],
   "source": [
    "F1"
   ]
  },
  {
   "cell_type": "code",
   "execution_count": 6,
   "metadata": {},
   "outputs": [
    {
     "data": {
      "text/latex": [
       "$\\displaystyle \\frac{x^{2} - 0.25}{x^{2}}$"
      ],
      "text/plain": [
       "(x**2 - 0.25)/x**2"
      ]
     },
     "execution_count": 6,
     "metadata": {},
     "output_type": "execute_result"
    }
   ],
   "source": [
    "F2"
   ]
  },
  {
   "cell_type": "code",
   "execution_count": 7,
   "metadata": {},
   "outputs": [],
   "source": [
    "S1 = singularities(F1, x)\n",
    "S2 = singularities(F2, x)"
   ]
  },
  {
   "cell_type": "code",
   "execution_count": 8,
   "metadata": {},
   "outputs": [],
   "source": [
    "f1 = F1*x\n",
    "f2 = F2*x**2"
   ]
  },
  {
   "cell_type": "code",
   "execution_count": 9,
   "metadata": {
    "scrolled": true
   },
   "outputs": [
    {
     "data": {
      "text/latex": [
       "$\\displaystyle 3$"
      ],
      "text/plain": [
       "3"
      ]
     },
     "execution_count": 9,
     "metadata": {},
     "output_type": "execute_result"
    }
   ],
   "source": [
    "f1"
   ]
  },
  {
   "cell_type": "code",
   "execution_count": 10,
   "metadata": {},
   "outputs": [
    {
     "data": {
      "text/latex": [
       "$\\displaystyle x^{2} - 0.25$"
      ],
      "text/plain": [
       "x**2 - 0.25"
      ]
     },
     "execution_count": 10,
     "metadata": {},
     "output_type": "execute_result"
    }
   ],
   "source": [
    "f2"
   ]
  },
  {
   "cell_type": "code",
   "execution_count": 11,
   "metadata": {},
   "outputs": [],
   "source": [
    "b = Poly(f1,x).all_coeffs()\n",
    "c = Poly(f2,x).all_coeffs()"
   ]
  },
  {
   "cell_type": "code",
   "execution_count": 12,
   "metadata": {
    "scrolled": true
   },
   "outputs": [
    {
     "data": {
      "text/plain": [
       "[1.00000000000000, 0.0, -0.250000000000000]"
      ]
     },
     "execution_count": 12,
     "metadata": {},
     "output_type": "execute_result"
    }
   ],
   "source": [
    "#Coeficientes c\n",
    "c"
   ]
  },
  {
   "cell_type": "code",
   "execution_count": 13,
   "metadata": {},
   "outputs": [
    {
     "data": {
      "text/plain": [
       "[3]"
      ]
     },
     "execution_count": 13,
     "metadata": {},
     "output_type": "execute_result"
    }
   ],
   "source": [
    "#Coeficientes b\n",
    "b"
   ]
  },
  {
   "cell_type": "code",
   "execution_count": 14,
   "metadata": {},
   "outputs": [],
   "source": [
    "ceros = [0,0,0,0,0,0,0,0,0]"
   ]
  },
  {
   "cell_type": "code",
   "execution_count": 15,
   "metadata": {},
   "outputs": [],
   "source": [
    "c = ceros + c\n",
    "b = ceros + b"
   ]
  },
  {
   "cell_type": "markdown",
   "metadata": {},
   "source": [
    "### Ecuación indicadora:"
   ]
  },
  {
   "cell_type": "code",
   "execution_count": 16,
   "metadata": {},
   "outputs": [],
   "source": [
    "# Ecuación indicadora:\n",
    "def u(n):\n",
    "    return (m+n)*(m+n-1) + b[-1]*(m+n) + c[-1] "
   ]
  },
  {
   "cell_type": "code",
   "execution_count": 17,
   "metadata": {},
   "outputs": [
    {
     "data": {
      "text/latex": [
       "$\\displaystyle m \\left(m - 1\\right) + 3 m - 0.25$"
      ],
      "text/plain": [
       "m*(m - 1) + 3*m - 0.25"
      ]
     },
     "execution_count": 17,
     "metadata": {},
     "output_type": "execute_result"
    }
   ],
   "source": [
    "u(0)"
   ]
  },
  {
   "cell_type": "markdown",
   "metadata": {},
   "source": [
    "Raíces:"
   ]
  },
  {
   "cell_type": "code",
   "execution_count": 18,
   "metadata": {},
   "outputs": [
    {
     "data": {
      "text/plain": [
       "[-2.11803398874989, 0.118033988749895]"
      ]
     },
     "execution_count": 18,
     "metadata": {},
     "output_type": "execute_result"
    }
   ],
   "source": [
    "roots = solve(u(0), m)\n",
    "roots"
   ]
  },
  {
   "cell_type": "markdown",
   "metadata": {},
   "source": [
    "Valor de N:"
   ]
  },
  {
   "cell_type": "code",
   "execution_count": 19,
   "metadata": {},
   "outputs": [
    {
     "data": {
      "text/plain": [
       "2"
      ]
     },
     "execution_count": 19,
     "metadata": {},
     "output_type": "execute_result"
    }
   ],
   "source": [
    "N = max(roots) - min(roots)\n",
    "N = int(N)\n",
    "N"
   ]
  },
  {
   "cell_type": "code",
   "execution_count": 20,
   "metadata": {},
   "outputs": [
    {
     "data": {
      "text/latex": [
       "$\\displaystyle 2.23606797749979$"
      ],
      "text/plain": [
       "2.23606797749979"
      ]
     },
     "execution_count": 20,
     "metadata": {},
     "output_type": "execute_result"
    }
   ],
   "source": [
    "max(roots) - min(roots)"
   ]
  },
  {
   "cell_type": "markdown",
   "metadata": {},
   "source": [
    "### Verificando subcaso"
   ]
  },
  {
   "attachments": {
    "image.png": {
     "image/png": "[encoded data removed]"
    }
   },
   "cell_type": "markdown",
   "metadata": {},
   "source": [
    "![image.png](attachment:image.png)"
   ]
  },
  {
   "cell_type": "code",
   "execution_count": 21,
   "metadata": {},
   "outputs": [],
   "source": [
    "a0, a1, a2, a3, a4, a5, a6, a7, a8, a9, a10, an, ak = symbols('a_0 a_1 a_2 a_3 a_4 a_5 a_6 a_7 a_8 a_9 a_10 a_n a_k')"
   ]
  },
  {
   "cell_type": "code",
   "execution_count": 22,
   "metadata": {
    "scrolled": true
   },
   "outputs": [],
   "source": [
    "a_ = [a0, a1, a2, a3, a4, a5, a6, a7, a8, a9, a10]"
   ]
  },
  {
   "cell_type": "code",
   "execution_count": 23,
   "metadata": {},
   "outputs": [
    {
     "data": {
      "text/latex": [
       "$\\displaystyle 1.0 a_{0}$"
      ],
      "text/plain": [
       "1.0*a_0"
      ]
     },
     "execution_count": 23,
     "metadata": {},
     "output_type": "execute_result"
    }
   ],
   "source": [
    "sum = 0\n",
    "for k in range(0, (N-1)+1, 1):\n",
    "    sum = a_[k]*((m+N-k)*b[-1-N-k] + c[-1-N-k]) + sum\n",
    "\n",
    "sum"
   ]
  },
  {
   "cell_type": "markdown",
   "metadata": {},
   "source": [
    "A continuación se elige la raíz dependiendo del subcaso:"
   ]
  },
  {
   "cell_type": "code",
   "execution_count": 24,
   "metadata": {},
   "outputs": [
    {
     "name": "stdout",
     "output_type": "stream",
     "text": [
      "Subcaso 2, raíz mayor ( m = 0.118033988749895 )\n"
     ]
    }
   ],
   "source": [
    "if sum == 0:\n",
    "    m = min(roots)\n",
    "    print(\"Subcaso 1, raíz menor ( m =\",m,\")\")\n",
    "else:\n",
    "    m = max(roots)\n",
    "    print(\"Subcaso 2, raíz mayor ( m =\",m,\")\")\n",
    "    "
   ]
  },
  {
   "cell_type": "markdown",
   "metadata": {},
   "source": [
    "### Desarrollo"
   ]
  },
  {
   "cell_type": "markdown",
   "metadata": {},
   "source": [
    "#### Parte derecha del término x^(m+n) que se utilizará posteriormente para la ecuación de recurrencia:"
   ]
  },
  {
   "cell_type": "code",
   "execution_count": 25,
   "metadata": {
    "scrolled": true
   },
   "outputs": [
    {
     "data": {
      "text/latex": [
       "$\\displaystyle 1.0 a_{n-2}$"
      ],
      "text/plain": [
       "1.0*a_n-2"
      ]
     },
     "execution_count": 25,
     "metadata": {},
     "output_type": "execute_result"
    }
   ],
   "source": [
    "sum = 0\n",
    "for k in range(0, 6, 1):\n",
    "    sum = a[k]*((m+ (n-1)-k)*b[-2-k] + c[-2-k]) + sum\n",
    "\n",
    "sum"
   ]
  },
  {
   "cell_type": "markdown",
   "metadata": {},
   "source": [
    "#### Coef x^(m+1), con el cual se encuentra la relación entre los primeros coeficientes de a:"
   ]
  },
  {
   "cell_type": "markdown",
   "metadata": {},
   "source": [
    "Parte derecha del coef x^(m+1):"
   ]
  },
  {
   "cell_type": "code",
   "execution_count": 26,
   "metadata": {},
   "outputs": [
    {
     "data": {
      "text/latex": [
       "$\\displaystyle 0$"
      ],
      "text/plain": [
       "0"
      ]
     },
     "execution_count": 26,
     "metadata": {},
     "output_type": "execute_result"
    }
   ],
   "source": [
    "# Ni siquiera necesito el ciclo for, recordar quitarlo\n",
    "summm = 0\n",
    "for k in range(0, 1, 1):\n",
    "    summm = a_[k]*((m+k)*b[-2-k] + c[-2-k]) + summm\n",
    "\n",
    "summm"
   ]
  },
  {
   "cell_type": "markdown",
   "metadata": {},
   "source": [
    "Parte izq + derecha = coef x^(m+1)"
   ]
  },
  {
   "attachments": {
    "image.png": {
     "image/png": "[encoded data removed]"
    }
   },
   "cell_type": "markdown",
   "metadata": {},
   "source": [
    "![image.png](attachment:image.png)"
   ]
  },
  {
   "cell_type": "code",
   "execution_count": 27,
   "metadata": {
    "scrolled": true
   },
   "outputs": [],
   "source": [
    "xm1 = a1*u(1) + summm"
   ]
  },
  {
   "cell_type": "code",
   "execution_count": 28,
   "metadata": {},
   "outputs": [
    {
     "data": {
      "text/latex": [
       "$\\displaystyle 3.23606797749979 a_{1}$"
      ],
      "text/plain": [
       "3.23606797749979*a_1"
      ]
     },
     "execution_count": 28,
     "metadata": {},
     "output_type": "execute_result"
    }
   ],
   "source": [
    "xm1"
   ]
  },
  {
   "cell_type": "markdown",
   "metadata": {},
   "source": [
    "(Si xm1=0 es porque los coeficientes de a1, a2 = 0 (a1*[0] y a2*[0]) y entonces estos pueden tomar cualquier valor)"
   ]
  },
  {
   "cell_type": "code",
   "execution_count": 29,
   "metadata": {
    "scrolled": true
   },
   "outputs": [
    {
     "data": {
      "text/plain": [
       "[0.0]"
      ]
     },
     "execution_count": 29,
     "metadata": {},
     "output_type": "execute_result"
    }
   ],
   "source": [
    "# Se resuelve para a1, encontrando la relación entre a1 y a0.\n",
    "solve(xm1, a1)"
   ]
  },
  {
   "cell_type": "code",
   "execution_count": 30,
   "metadata": {},
   "outputs": [
    {
     "name": "stdout",
     "output_type": "stream",
     "text": [
      "a_1 = [0.0]\n"
     ]
    }
   ],
   "source": [
    "print(\"a_1 =\",solve(xm1, a1))"
   ]
  },
  {
   "cell_type": "markdown",
   "metadata": {},
   "source": [
    "### Ecuación de recurrencia:"
   ]
  },
  {
   "cell_type": "code",
   "execution_count": 31,
   "metadata": {},
   "outputs": [],
   "source": [
    "recurrencia = an*u(n) + sum"
   ]
  },
  {
   "cell_type": "code",
   "execution_count": 32,
   "metadata": {},
   "outputs": [
    {
     "data": {
      "text/latex": [
       "$\\displaystyle a_{n} \\left(3 n + \\left(n - 0.881966011250105\\right) \\left(n + 0.118033988749895\\right) + 0.104101966249685\\right) + 1.0 a_{n-2}$"
      ],
      "text/plain": [
       "a_n*(3*n + (n - 0.881966011250105)*(n + 0.118033988749895) + 0.104101966249685) + 1.0*a_n-2"
      ]
     },
     "execution_count": 32,
     "metadata": {},
     "output_type": "execute_result"
    }
   ],
   "source": [
    "recurrencia"
   ]
  },
  {
   "cell_type": "markdown",
   "metadata": {},
   "source": [
    "### Cálculo de los coeficientes a_n utilizando la ecuación de recurrencia:"
   ]
  },
  {
   "cell_type": "code",
   "execution_count": 33,
   "metadata": {},
   "outputs": [],
   "source": [
    "# Colocar coeficientes a0 y a1:\n",
    "A0 = a0\n",
    "A1 = a1\n",
    "coefs_add = [A0, A1]\n",
    "coefs_i = coefs_add + ceros"
   ]
  },
  {
   "cell_type": "code",
   "execution_count": 34,
   "metadata": {},
   "outputs": [],
   "source": [
    "ni=2"
   ]
  },
  {
   "cell_type": "code",
   "execution_count": 35,
   "metadata": {},
   "outputs": [],
   "source": [
    "bb = b.copy()\n",
    "cc = c.copy()\n",
    "\n",
    "bb.reverse()\n",
    "cc.reverse()"
   ]
  },
  {
   "cell_type": "code",
   "execution_count": 36,
   "metadata": {},
   "outputs": [],
   "source": [
    "# Cálculo de los coeficientes a_n\n",
    "for n in range(ni, ni+4, 1):\n",
    "    sum_num = 0\n",
    "    for k in range(0, 8, 1):\n",
    "        sum_num = coefs_i[k]*((m+k)*bb[n-k] + cc[n-k]) + sum_num\n",
    "    \n",
    "    recurr = an*u(n) + sum_num\n",
    "    \n",
    "    A = solve(recurr, an)\n",
    "    \n",
    "    coefs_add.append(A[0])\n",
    "    coefs_add\n",
    "    coefs_i = coefs_add + ceros\n",
    "    coefs_i"
   ]
  },
  {
   "cell_type": "code",
   "execution_count": 37,
   "metadata": {},
   "outputs": [
    {
     "data": {
      "text/plain": [
       "[a_0,\n",
       " a_1,\n",
       " -0.118033988749895*a_0,\n",
       " -0.0636610018750174*a_1,\n",
       " 0.00473190755680384*a_0,\n",
       " 0.00175954681666806*a_1]"
      ]
     },
     "execution_count": 37,
     "metadata": {},
     "output_type": "execute_result"
    }
   ],
   "source": [
    "coefs_add"
   ]
  },
  {
   "cell_type": "markdown",
   "metadata": {},
   "source": [
    "Primera solución:"
   ]
  },
  {
   "cell_type": "code",
   "execution_count": 38,
   "metadata": {},
   "outputs": [
    {
     "data": {
      "text/latex": [
       "$\\displaystyle x^{0.118033988749895} \\left(0.00473190755680384 a_{0} x^{4} - 0.118033988749895 a_{0} x^{2} + a_{0} + 0.00175954681666806 a_{1} x^{5} - 0.0636610018750174 a_{1} x^{3} + a_{1} x\\right)$"
      ],
      "text/plain": [
       "x**0.118033988749895*(0.00473190755680384*a_0*x**4 - 0.118033988749895*a_0*x**2 + a_0 + 0.00175954681666806*a_1*x**5 - 0.0636610018750174*a_1*x**3 + a_1*x)"
      ]
     },
     "execution_count": 38,
     "metadata": {},
     "output_type": "execute_result"
    }
   ],
   "source": [
    "y1 = (x**m)*(coefs_add[0]*x**0 + coefs_add[1]*x**1 + coefs_add[2]*x**2 + coefs_add[3]*x**3 + coefs_add[4]*x**4 + coefs_add[5]*x**5 )\n",
    "y1"
   ]
  },
  {
   "cell_type": "markdown",
   "metadata": {},
   "source": [
    "La segunda solución tendría la forma:"
   ]
  },
  {
   "cell_type": "code",
   "execution_count": 39,
   "metadata": {},
   "outputs": [],
   "source": [
    "m2, bi = symbols('m_2 b_i') "
   ]
  },
  {
   "cell_type": "code",
   "execution_count": 40,
   "metadata": {},
   "outputs": [],
   "source": [
    "from sympy.abc import i, k, m, n, x\n",
    "from sympy import Sum, factorial, oo, IndexedBase, Function"
   ]
  },
  {
   "cell_type": "code",
   "execution_count": 41,
   "metadata": {},
   "outputs": [
    {
     "data": {
      "text/latex": [
       "$\\displaystyle x^{0.118033988749895} \\left(0.00473190755680384 a_{0} x^{4} - 0.118033988749895 a_{0} x^{2} + a_{0} + 0.00175954681666806 a_{1} x^{5} - 0.0636610018750174 a_{1} x^{3} + a_{1} x\\right) \\log{\\left(x \\right)} + x^{m_{2}} \\sum_{i=0}^{\\infty} b_{i} x^{i}$"
      ],
      "text/plain": [
       "x**0.118033988749895*(0.00473190755680384*a_0*x**4 - 0.118033988749895*a_0*x**2 + a_0 + 0.00175954681666806*a_1*x**5 - 0.0636610018750174*a_1*x**3 + a_1*x)*log(x) + x**m_2*Sum(b_i*x**i, (i, 0, oo))"
      ]
     },
     "execution_count": 41,
     "metadata": {},
     "output_type": "execute_result"
    }
   ],
   "source": [
    "y1*ln(x) + x**(m2) * Sum(bi*x**i, (i, 0, oo))"
   ]
  }
 ],
 "metadata": {
  "kernelspec": {
   "display_name": "Python 3",
   "language": "python",
   "name": "python3"
  },
  "language_info": {
   "codemirror_mode": {
    "name": "ipython",
    "version": 3
   },
   "file_extension": ".py",
   "mimetype": "text/x-python",
   "name": "python",
   "nbconvert_exporter": "python",
   "pygments_lexer": "ipython3",
   "version": "3.7.6"
  }
 },
 "nbformat": 4,
 "nbformat_minor": 5
}
